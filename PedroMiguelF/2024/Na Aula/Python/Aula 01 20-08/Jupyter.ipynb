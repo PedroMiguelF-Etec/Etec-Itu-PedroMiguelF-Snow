{
 "cells": [
  {
   "cell_type": "markdown",
   "metadata": {},
   "source": [
    "## Aula 01"
   ]
  },
  {
   "cell_type": "markdown",
   "metadata": {},
   "source": [
    "### Part 1 - Variaveis"
   ]
  },
  {
   "cell_type": "code",
   "execution_count": 9,
   "metadata": {},
   "outputs": [
    {
     "name": "stdout",
     "output_type": "stream",
     "text": [
      "3\n",
      "-1\n",
      "2\n",
      "0.5\n"
     ]
    }
   ],
   "source": [
    "a = 1\n",
    "b = 2\n",
    "res = a + b\n",
    "print(res)\n",
    "\n",
    "resm = a - b\n",
    "print(resm)\n",
    "\n",
    "resmt = a * b\n",
    "print(resmt)\n",
    "\n",
    "resd = a / b\n",
    "print(resd)"
   ]
  },
  {
   "cell_type": "markdown",
   "metadata": {},
   "source": [
    "### Part 2 - Importe Random"
   ]
  },
  {
   "cell_type": "code",
   "execution_count": 53,
   "metadata": {},
   "outputs": [
    {
     "name": "stdout",
     "output_type": "stream",
     "text": [
      "13\n",
      "luis\n"
     ]
    }
   ],
   "source": [
    "import random\n",
    "\n",
    "nr = random.randint(0, 20)\n",
    "rn = \"jose\", \"carlos\",   \"maria\", \"juan\", \"pedro\", \"luis\", \"juan\", \"mar\"\n",
    "rnc = random.choice(rn)\n",
    "\n",
    "print(nr)\n",
    "print(rnc)"
   ]
  },
  {
   "cell_type": "markdown",
   "metadata": {},
   "source": [
    "## Part 3 - Type"
   ]
  },
  {
   "cell_type": "code",
   "execution_count": 8,
   "metadata": {},
   "outputs": [
    {
     "name": "stdout",
     "output_type": "stream",
     "text": [
      "<class 'int'>\n",
      "<class 'float'>\n",
      "<class 'float'>\n",
      "(<class 'int'>, <class 'float'>, <class 'float'>)\n"
     ]
    }
   ],
   "source": [
    "a = 1\n",
    "b = 2.5\n",
    "res = a + b\n",
    "tipo = type(a), type(b), type(res)\n",
    "print(type(a))\n",
    "print(type(b))\n",
    "print(type(res))\n",
    "print(tipo)"
   ]
  }
 ],
 "metadata": {
  "kernelspec": {
   "display_name": "Python 3",
   "language": "python",
   "name": "python3"
  },
  "language_info": {
   "codemirror_mode": {
    "name": "ipython",
    "version": 3
   },
   "file_extension": ".py",
   "mimetype": "text/x-python",
   "name": "python",
   "nbconvert_exporter": "python",
   "pygments_lexer": "ipython3",
   "version": "3.12.2"
  }
 },
 "nbformat": 4,
 "nbformat_minor": 2
}
