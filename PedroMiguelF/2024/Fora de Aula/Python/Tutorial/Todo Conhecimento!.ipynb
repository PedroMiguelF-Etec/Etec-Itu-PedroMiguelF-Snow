{
 "cells": [
  {
   "cell_type": "markdown",
   "metadata": {},
   "source": [
    "# Python!"
   ]
  },
  {
   "cell_type": "markdown",
   "metadata": {},
   "source": [
    "## Print :/"
   ]
  },
  {
   "cell_type": "markdown",
   "metadata": {},
   "source": [
    "### Print de Palavra ou Fraze"
   ]
  },
  {
   "cell_type": "code",
   "execution_count": 3,
   "metadata": {},
   "outputs": [
    {
     "name": "stdout",
     "output_type": "stream",
     "text": [
      "Olá Mundo!\n"
     ]
    }
   ],
   "source": [
    "print(\"Olá Mundo!\")"
   ]
  },
  {
   "cell_type": "markdown",
   "metadata": {},
   "source": [
    "### Print de Numeros"
   ]
  },
  {
   "cell_type": "code",
   "execution_count": 4,
   "metadata": {},
   "outputs": [
    {
     "name": "stdout",
     "output_type": "stream",
     "text": [
      "1\n"
     ]
    }
   ],
   "source": [
    "print(1)"
   ]
  },
  {
   "cell_type": "markdown",
   "metadata": {},
   "source": [
    "### Print de Conta"
   ]
  },
  {
   "cell_type": "code",
   "execution_count": 5,
   "metadata": {},
   "outputs": [
    {
     "name": "stdout",
     "output_type": "stream",
     "text": [
      "2\n"
     ]
    }
   ],
   "source": [
    "print(1+1)"
   ]
  },
  {
   "cell_type": "markdown",
   "metadata": {},
   "source": [
    "### Print com junção de fraze"
   ]
  },
  {
   "cell_type": "code",
   "execution_count": 6,
   "metadata": {},
   "outputs": [
    {
     "name": "stdout",
     "output_type": "stream",
     "text": [
      "Olá Mundo!\n"
     ]
    }
   ],
   "source": [
    "print(\"Olá\"+\" \"+\"Mundo\"+\"!\")"
   ]
  },
  {
   "cell_type": "markdown",
   "metadata": {},
   "source": [
    "## Comentario"
   ]
  },
  {
   "cell_type": "markdown",
   "metadata": {},
   "source": [
    "### Usa \"#\""
   ]
  },
  {
   "cell_type": "code",
   "execution_count": 13,
   "metadata": {},
   "outputs": [
    {
     "name": "stdout",
     "output_type": "stream",
     "text": [
      "Olá...\n"
     ]
    }
   ],
   "source": [
    "print(\"Olá...\") #Mundo!\n",
    "\n",
    "#print ira aparecer no terminal, mas essa mensagem não"
   ]
  },
  {
   "cell_type": "markdown",
   "metadata": {},
   "source": [
    "## Variavel"
   ]
  },
  {
   "cell_type": "markdown",
   "metadata": {},
   "source": [
    "### Criar Variavel"
   ]
  },
  {
   "cell_type": "code",
   "execution_count": null,
   "metadata": {},
   "outputs": [],
   "source": [
    "NomeDaVariabel = (\"Olá Mundo\")"
   ]
  },
  {
   "cell_type": "markdown",
   "metadata": {},
   "source": [
    "### Print Variavel"
   ]
  },
  {
   "cell_type": "code",
   "execution_count": null,
   "metadata": {},
   "outputs": [],
   "source": [
    "NomeDaVariavel = (\"Olá Mundo!\")\n",
    "\n",
    "print(NomeDaVariavel)"
   ]
  },
  {
   "cell_type": "markdown",
   "metadata": {},
   "source": [
    "### Variavel + Variavel (Numero)"
   ]
  },
  {
   "cell_type": "code",
   "execution_count": 12,
   "metadata": {},
   "outputs": [
    {
     "name": "stdout",
     "output_type": "stream",
     "text": [
      "5\n",
      "4\n"
     ]
    }
   ],
   "source": [
    "Variavel1 = 2\n",
    "Variavel2 = 3\n",
    "\n",
    "print(Variavel1 + Variavel2)\n",
    "\n",
    "#tambem pode se repetir caso não saiba\n",
    "\n",
    "print(Variavel1 + Variavel1)"
   ]
  },
  {
   "cell_type": "markdown",
   "metadata": {},
   "source": [
    "### Variavel + Variavel (Palavras)"
   ]
  },
  {
   "cell_type": "code",
   "execution_count": 15,
   "metadata": {},
   "outputs": [
    {
     "name": "stdout",
     "output_type": "stream",
     "text": [
      "Olá Mundo!\n",
      "OláOláOlá Mundo!\n"
     ]
    }
   ],
   "source": [
    "palavra1 = (\"Olá\")\n",
    "espaço = (\" \")\n",
    "palavra2 = (\"Mundo!\")\n",
    "\n",
    "print(palavra1 + espaço + palavra2)\n",
    "\n",
    "#tambem pode se repetir caso não saiba\n",
    "\n",
    "print(palavra1 + palavra1 + palavra1 + espaço + palavra2)"
   ]
  },
  {
   "cell_type": "markdown",
   "metadata": {},
   "source": [
    "### Tipos de variavel \"(), [], {}\""
   ]
  },
  {
   "cell_type": "code",
   "execution_count": 7,
   "metadata": {},
   "outputs": [
    {
     "name": "stdout",
     "output_type": "stream",
     "text": [
      "['Pedro', 'Lorenzo', 'Luis']\n",
      "Pedro\n",
      "('Pedro', 'Lorenzo', 'Luis')\n"
     ]
    }
   ],
   "source": [
    "ListaNomes = [\"Pedro\", \"Lorenzo\", \"Luis\"] #pode ser alterado\n",
    "\n",
    "print(ListaNomes)\n",
    "print(ListaNomes[0])\n",
    "\n",
    "Nomes = (\"Pedro\", \"Lorenzo\", \"Luis\") #não pode ser alterado a ordem\n",
    "print(Nomes)\n",
    "\n",
    "NomesEmOrdem = {\"Pedro\", \"Lorenzo\", \"Luis\"} #\"Dicionario\", seja lá o que isso significa\n"
   ]
  },
  {
   "cell_type": "markdown",
   "metadata": {},
   "source": [
    "## Import"
   ]
  },
  {
   "cell_type": "markdown",
   "metadata": {},
   "source": [
    "### Import os"
   ]
  },
  {
   "cell_type": "code",
   "execution_count": null,
   "metadata": {},
   "outputs": [],
   "source": [
    "import os\n",
    "\n",
    "#o \"os\" pode ser usado para limpor o terminal com o esse comando:\n",
    "\n",
    "os.system('cls')"
   ]
  },
  {
   "cell_type": "markdown",
   "metadata": {},
   "source": [
    "### Import Random"
   ]
  },
  {
   "cell_type": "code",
   "execution_count": 6,
   "metadata": {},
   "outputs": [
    {
     "name": "stdout",
     "output_type": "stream",
     "text": [
      "3\n",
      "Max Palaro\n",
      "H\n",
      "g\n"
     ]
    }
   ],
   "source": [
    "import random\n",
    "\n",
    "#o \"random\" pode ser usado para nomes, numeros e letras\n",
    "\n",
    "NumeroAleatorioDeZeroACinco = random.randint(0, 5)\n",
    "\n",
    "print(NumeroAleatorioDeZeroACinco)\n",
    "\n",
    "#para o nome, você precisa definir quais nomes são posiveis\n",
    "\n",
    "PosiveisNomes = (\"Juan\", \"Carlos\", \"Roger\", \"Max Palaro\", \"Bit Gamer\")\n",
    "\n",
    "#em seguida você precisa definir uma variavel para guardar o seu nome\n",
    "\n",
    "NomeAleatorio = random.choice(PosiveisNomes)\n",
    "\n",
    "print(NomeAleatorio)\n",
    "\n",
    "#para a letra aleatoria você só precisa quardar ela\n",
    "\n",
    "LetraAleatoria = random.choice(\"ABCDEFGHIJK\")\n",
    "print(LetraAleatoria)\n",
    "\n",
    "#ou tambem pode se definer as letras assim:\n",
    "Letras = \"abcdefg\"\n",
    "LetrasRandomisadas = random.choice(Letras)\n",
    "print(LetrasRandomisadas)"
   ]
  },
  {
   "cell_type": "markdown",
   "metadata": {},
   "source": [
    "## Laços de Repetição (Loop)"
   ]
  },
  {
   "cell_type": "markdown",
   "metadata": {},
   "source": [
    "### Para (for)"
   ]
  },
  {
   "cell_type": "code",
   "execution_count": 26,
   "metadata": {},
   "outputs": [
    {
     "name": "stdout",
     "output_type": "stream",
     "text": [
      "Pedro\n",
      "Lorenzo\n",
      "Luis\n",
      "0\n",
      "1\n",
      "2\n",
      "3\n",
      "4\n",
      "5\n",
      "6\n",
      "7\n",
      "8\n",
      "9\n",
      "10\n"
     ]
    }
   ],
   "source": [
    "for X in range(10): \n",
    "    print(X)\n",
    "#X seria onde a contagem esta.\n",
    "#Ex: print(x) Terminal: 0 (Loop)\n",
    "#loop X += 1 print(X) Terminal: 1 (Loop)\n",
    "\n",
    "#o \"range(10)\" indica que o \"X\" pode ir apenas até o 10\n",
    "\n",
    "lista = [\"Pedro\", \"Lorenzo\", \"Luis\"]\n",
    "\n",
    "for X in lista:\n",
    "    print(X)\n",
    "\n",
    "#mesma coisa do de cima:\n",
    "#Ex: X += 1 print(lista[x]) Terminal = Pedro\n",
    "#X += 1 print(lista[x]) Terminal = Lorenzo"
   ]
  },
  {
   "cell_type": "markdown",
   "metadata": {},
   "source": [
    "### Enquanto (While)"
   ]
  },
  {
   "cell_type": "code",
   "execution_count": 12,
   "metadata": {},
   "outputs": [
    {
     "name": "stdout",
     "output_type": "stream",
     "text": [
      "0\n",
      "1\n",
      "2\n",
      "3\n",
      "4\n",
      "5\n",
      "6\n",
      "7\n",
      "8\n",
      "9\n",
      "10\n",
      "Valor de X: 11\n"
     ]
    }
   ],
   "source": [
    "X = 0\n",
    "\n",
    "while (X <= 10):\n",
    "    print(X)\n",
    "    X += 1\n",
    "\n",
    "#enquanto \"X\" for menor que 10 ou igual, ele vai printar o \"X\" e adicionar +1\n",
    "#quando o valor de \"X\" for maior que 10, o loop ira parar\n",
    "\n",
    "#esse é o valor de \"X\" depois do Loop:\n",
    "print(\"Valor de X:\", X)"
   ]
  }
 ],
 "metadata": {
  "kernelspec": {
   "display_name": "Python 3",
   "language": "python",
   "name": "python3"
  },
  "language_info": {
   "codemirror_mode": {
    "name": "ipython",
    "version": 3
   },
   "file_extension": ".py",
   "mimetype": "text/x-python",
   "name": "python",
   "nbconvert_exporter": "python",
   "pygments_lexer": "ipython3",
   "version": "3.12.3"
  }
 },
 "nbformat": 4,
 "nbformat_minor": 2
}
